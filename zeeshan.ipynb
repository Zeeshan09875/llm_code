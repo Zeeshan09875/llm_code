{
  "nbformat": 4,
  "nbformat_minor": 0,
  "metadata": {
    "colab": {
      "provenance": [],
      "gpuType": "T4"
    },
    "kernelspec": {
      "name": "python3",
      "display_name": "Python 3"
    },
    "language_info": {
      "name": "python"
    },
    "accelerator": "GPU",
    "widgets": {
      "application/vnd.jupyter.widget-state+json": {
        "318fde1b887745539268c7f06130b249": {
          "model_module": "@jupyter-widgets/controls",
          "model_name": "HBoxModel",
          "model_module_version": "1.5.0",
          "state": {
            "_dom_classes": [],
            "_model_module": "@jupyter-widgets/controls",
            "_model_module_version": "1.5.0",
            "_model_name": "HBoxModel",
            "_view_count": null,
            "_view_module": "@jupyter-widgets/controls",
            "_view_module_version": "1.5.0",
            "_view_name": "HBoxView",
            "box_style": "",
            "children": [
              "IPY_MODEL_cdd48b9aadb742fd9843a46153ce7592",
              "IPY_MODEL_b168c867109d484aa74f276596e6c512",
              "IPY_MODEL_5bb741faec484c5f83d1c1df45b2f94e"
            ],
            "layout": "IPY_MODEL_051eaffa5f6e4df4882c495077ed27b1"
          }
        },
        "cdd48b9aadb742fd9843a46153ce7592": {
          "model_module": "@jupyter-widgets/controls",
          "model_name": "HTMLModel",
          "model_module_version": "1.5.0",
          "state": {
            "_dom_classes": [],
            "_model_module": "@jupyter-widgets/controls",
            "_model_module_version": "1.5.0",
            "_model_name": "HTMLModel",
            "_view_count": null,
            "_view_module": "@jupyter-widgets/controls",
            "_view_module_version": "1.5.0",
            "_view_name": "HTMLView",
            "description": "",
            "description_tooltip": null,
            "layout": "IPY_MODEL_9f1b90e67bbc4f1688f7b6788b05f82d",
            "placeholder": "​",
            "style": "IPY_MODEL_d74f63c0ef854454ae8a90a79f10b17c",
            "value": "Map: 100%"
          }
        },
        "b168c867109d484aa74f276596e6c512": {
          "model_module": "@jupyter-widgets/controls",
          "model_name": "FloatProgressModel",
          "model_module_version": "1.5.0",
          "state": {
            "_dom_classes": [],
            "_model_module": "@jupyter-widgets/controls",
            "_model_module_version": "1.5.0",
            "_model_name": "FloatProgressModel",
            "_view_count": null,
            "_view_module": "@jupyter-widgets/controls",
            "_view_module_version": "1.5.0",
            "_view_name": "ProgressView",
            "bar_style": "success",
            "description": "",
            "description_tooltip": null,
            "layout": "IPY_MODEL_0c25eabcf0424a6baa82d22624052ac4",
            "max": 4800,
            "min": 0,
            "orientation": "horizontal",
            "style": "IPY_MODEL_d4cc0587b43a4eacafc2458398861b2e",
            "value": 4800
          }
        },
        "5bb741faec484c5f83d1c1df45b2f94e": {
          "model_module": "@jupyter-widgets/controls",
          "model_name": "HTMLModel",
          "model_module_version": "1.5.0",
          "state": {
            "_dom_classes": [],
            "_model_module": "@jupyter-widgets/controls",
            "_model_module_version": "1.5.0",
            "_model_name": "HTMLModel",
            "_view_count": null,
            "_view_module": "@jupyter-widgets/controls",
            "_view_module_version": "1.5.0",
            "_view_name": "HTMLView",
            "description": "",
            "description_tooltip": null,
            "layout": "IPY_MODEL_3b4965886a48406394281211c70e93d9",
            "placeholder": "​",
            "style": "IPY_MODEL_21bc21d3184641398de516f61011b7ec",
            "value": " 4800/4800 [00:03&lt;00:00, 1477.04 examples/s]"
          }
        },
        "051eaffa5f6e4df4882c495077ed27b1": {
          "model_module": "@jupyter-widgets/base",
          "model_name": "LayoutModel",
          "model_module_version": "1.2.0",
          "state": {
            "_model_module": "@jupyter-widgets/base",
            "_model_module_version": "1.2.0",
            "_model_name": "LayoutModel",
            "_view_count": null,
            "_view_module": "@jupyter-widgets/base",
            "_view_module_version": "1.2.0",
            "_view_name": "LayoutView",
            "align_content": null,
            "align_items": null,
            "align_self": null,
            "border": null,
            "bottom": null,
            "display": null,
            "flex": null,
            "flex_flow": null,
            "grid_area": null,
            "grid_auto_columns": null,
            "grid_auto_flow": null,
            "grid_auto_rows": null,
            "grid_column": null,
            "grid_gap": null,
            "grid_row": null,
            "grid_template_areas": null,
            "grid_template_columns": null,
            "grid_template_rows": null,
            "height": null,
            "justify_content": null,
            "justify_items": null,
            "left": null,
            "margin": null,
            "max_height": null,
            "max_width": null,
            "min_height": null,
            "min_width": null,
            "object_fit": null,
            "object_position": null,
            "order": null,
            "overflow": null,
            "overflow_x": null,
            "overflow_y": null,
            "padding": null,
            "right": null,
            "top": null,
            "visibility": null,
            "width": null
          }
        },
        "9f1b90e67bbc4f1688f7b6788b05f82d": {
          "model_module": "@jupyter-widgets/base",
          "model_name": "LayoutModel",
          "model_module_version": "1.2.0",
          "state": {
            "_model_module": "@jupyter-widgets/base",
            "_model_module_version": "1.2.0",
            "_model_name": "LayoutModel",
            "_view_count": null,
            "_view_module": "@jupyter-widgets/base",
            "_view_module_version": "1.2.0",
            "_view_name": "LayoutView",
            "align_content": null,
            "align_items": null,
            "align_self": null,
            "border": null,
            "bottom": null,
            "display": null,
            "flex": null,
            "flex_flow": null,
            "grid_area": null,
            "grid_auto_columns": null,
            "grid_auto_flow": null,
            "grid_auto_rows": null,
            "grid_column": null,
            "grid_gap": null,
            "grid_row": null,
            "grid_template_areas": null,
            "grid_template_columns": null,
            "grid_template_rows": null,
            "height": null,
            "justify_content": null,
            "justify_items": null,
            "left": null,
            "margin": null,
            "max_height": null,
            "max_width": null,
            "min_height": null,
            "min_width": null,
            "object_fit": null,
            "object_position": null,
            "order": null,
            "overflow": null,
            "overflow_x": null,
            "overflow_y": null,
            "padding": null,
            "right": null,
            "top": null,
            "visibility": null,
            "width": null
          }
        },
        "d74f63c0ef854454ae8a90a79f10b17c": {
          "model_module": "@jupyter-widgets/controls",
          "model_name": "DescriptionStyleModel",
          "model_module_version": "1.5.0",
          "state": {
            "_model_module": "@jupyter-widgets/controls",
            "_model_module_version": "1.5.0",
            "_model_name": "DescriptionStyleModel",
            "_view_count": null,
            "_view_module": "@jupyter-widgets/base",
            "_view_module_version": "1.2.0",
            "_view_name": "StyleView",
            "description_width": ""
          }
        },
        "0c25eabcf0424a6baa82d22624052ac4": {
          "model_module": "@jupyter-widgets/base",
          "model_name": "LayoutModel",
          "model_module_version": "1.2.0",
          "state": {
            "_model_module": "@jupyter-widgets/base",
            "_model_module_version": "1.2.0",
            "_model_name": "LayoutModel",
            "_view_count": null,
            "_view_module": "@jupyter-widgets/base",
            "_view_module_version": "1.2.0",
            "_view_name": "LayoutView",
            "align_content": null,
            "align_items": null,
            "align_self": null,
            "border": null,
            "bottom": null,
            "display": null,
            "flex": null,
            "flex_flow": null,
            "grid_area": null,
            "grid_auto_columns": null,
            "grid_auto_flow": null,
            "grid_auto_rows": null,
            "grid_column": null,
            "grid_gap": null,
            "grid_row": null,
            "grid_template_areas": null,
            "grid_template_columns": null,
            "grid_template_rows": null,
            "height": null,
            "justify_content": null,
            "justify_items": null,
            "left": null,
            "margin": null,
            "max_height": null,
            "max_width": null,
            "min_height": null,
            "min_width": null,
            "object_fit": null,
            "object_position": null,
            "order": null,
            "overflow": null,
            "overflow_x": null,
            "overflow_y": null,
            "padding": null,
            "right": null,
            "top": null,
            "visibility": null,
            "width": null
          }
        },
        "d4cc0587b43a4eacafc2458398861b2e": {
          "model_module": "@jupyter-widgets/controls",
          "model_name": "ProgressStyleModel",
          "model_module_version": "1.5.0",
          "state": {
            "_model_module": "@jupyter-widgets/controls",
            "_model_module_version": "1.5.0",
            "_model_name": "ProgressStyleModel",
            "_view_count": null,
            "_view_module": "@jupyter-widgets/base",
            "_view_module_version": "1.2.0",
            "_view_name": "StyleView",
            "bar_color": null,
            "description_width": ""
          }
        },
        "3b4965886a48406394281211c70e93d9": {
          "model_module": "@jupyter-widgets/base",
          "model_name": "LayoutModel",
          "model_module_version": "1.2.0",
          "state": {
            "_model_module": "@jupyter-widgets/base",
            "_model_module_version": "1.2.0",
            "_model_name": "LayoutModel",
            "_view_count": null,
            "_view_module": "@jupyter-widgets/base",
            "_view_module_version": "1.2.0",
            "_view_name": "LayoutView",
            "align_content": null,
            "align_items": null,
            "align_self": null,
            "border": null,
            "bottom": null,
            "display": null,
            "flex": null,
            "flex_flow": null,
            "grid_area": null,
            "grid_auto_columns": null,
            "grid_auto_flow": null,
            "grid_auto_rows": null,
            "grid_column": null,
            "grid_gap": null,
            "grid_row": null,
            "grid_template_areas": null,
            "grid_template_columns": null,
            "grid_template_rows": null,
            "height": null,
            "justify_content": null,
            "justify_items": null,
            "left": null,
            "margin": null,
            "max_height": null,
            "max_width": null,
            "min_height": null,
            "min_width": null,
            "object_fit": null,
            "object_position": null,
            "order": null,
            "overflow": null,
            "overflow_x": null,
            "overflow_y": null,
            "padding": null,
            "right": null,
            "top": null,
            "visibility": null,
            "width": null
          }
        },
        "21bc21d3184641398de516f61011b7ec": {
          "model_module": "@jupyter-widgets/controls",
          "model_name": "DescriptionStyleModel",
          "model_module_version": "1.5.0",
          "state": {
            "_model_module": "@jupyter-widgets/controls",
            "_model_module_version": "1.5.0",
            "_model_name": "DescriptionStyleModel",
            "_view_count": null,
            "_view_module": "@jupyter-widgets/base",
            "_view_module_version": "1.2.0",
            "_view_name": "StyleView",
            "description_width": ""
          }
        },
        "39e70a6dc48b4d7ba457ec67e233e1f0": {
          "model_module": "@jupyter-widgets/controls",
          "model_name": "HBoxModel",
          "model_module_version": "1.5.0",
          "state": {
            "_dom_classes": [],
            "_model_module": "@jupyter-widgets/controls",
            "_model_module_version": "1.5.0",
            "_model_name": "HBoxModel",
            "_view_count": null,
            "_view_module": "@jupyter-widgets/controls",
            "_view_module_version": "1.5.0",
            "_view_name": "HBoxView",
            "box_style": "",
            "children": [
              "IPY_MODEL_75242dce44194eb9a2a6cfba30bc2c51",
              "IPY_MODEL_d790ca8faf004e1ab4b805a2a9697431",
              "IPY_MODEL_d455a7cbeae940e18fe377101a7d9a11"
            ],
            "layout": "IPY_MODEL_16f31fac07e6432ea75e9dae86abb745"
          }
        },
        "75242dce44194eb9a2a6cfba30bc2c51": {
          "model_module": "@jupyter-widgets/controls",
          "model_name": "HTMLModel",
          "model_module_version": "1.5.0",
          "state": {
            "_dom_classes": [],
            "_model_module": "@jupyter-widgets/controls",
            "_model_module_version": "1.5.0",
            "_model_name": "HTMLModel",
            "_view_count": null,
            "_view_module": "@jupyter-widgets/controls",
            "_view_module_version": "1.5.0",
            "_view_name": "HTMLView",
            "description": "",
            "description_tooltip": null,
            "layout": "IPY_MODEL_09a30566efab4982923bc9c127a8cdf5",
            "placeholder": "​",
            "style": "IPY_MODEL_fbb631f0b02a474f8603f49008f18c9d",
            "value": "Map: 100%"
          }
        },
        "d790ca8faf004e1ab4b805a2a9697431": {
          "model_module": "@jupyter-widgets/controls",
          "model_name": "FloatProgressModel",
          "model_module_version": "1.5.0",
          "state": {
            "_dom_classes": [],
            "_model_module": "@jupyter-widgets/controls",
            "_model_module_version": "1.5.0",
            "_model_name": "FloatProgressModel",
            "_view_count": null,
            "_view_module": "@jupyter-widgets/controls",
            "_view_module_version": "1.5.0",
            "_view_name": "ProgressView",
            "bar_style": "success",
            "description": "",
            "description_tooltip": null,
            "layout": "IPY_MODEL_46fff53b63aa402197fb0dec9c13d1a1",
            "max": 1200,
            "min": 0,
            "orientation": "horizontal",
            "style": "IPY_MODEL_23c909ac88e043afb7c14bcbe3183cd8",
            "value": 1200
          }
        },
        "d455a7cbeae940e18fe377101a7d9a11": {
          "model_module": "@jupyter-widgets/controls",
          "model_name": "HTMLModel",
          "model_module_version": "1.5.0",
          "state": {
            "_dom_classes": [],
            "_model_module": "@jupyter-widgets/controls",
            "_model_module_version": "1.5.0",
            "_model_name": "HTMLModel",
            "_view_count": null,
            "_view_module": "@jupyter-widgets/controls",
            "_view_module_version": "1.5.0",
            "_view_name": "HTMLView",
            "description": "",
            "description_tooltip": null,
            "layout": "IPY_MODEL_674de14f64af4bda98cffe0b670a0656",
            "placeholder": "​",
            "style": "IPY_MODEL_0781b97d182b49a08543a901e40a3e2b",
            "value": " 1200/1200 [00:00&lt;00:00, 1477.47 examples/s]"
          }
        },
        "16f31fac07e6432ea75e9dae86abb745": {
          "model_module": "@jupyter-widgets/base",
          "model_name": "LayoutModel",
          "model_module_version": "1.2.0",
          "state": {
            "_model_module": "@jupyter-widgets/base",
            "_model_module_version": "1.2.0",
            "_model_name": "LayoutModel",
            "_view_count": null,
            "_view_module": "@jupyter-widgets/base",
            "_view_module_version": "1.2.0",
            "_view_name": "LayoutView",
            "align_content": null,
            "align_items": null,
            "align_self": null,
            "border": null,
            "bottom": null,
            "display": null,
            "flex": null,
            "flex_flow": null,
            "grid_area": null,
            "grid_auto_columns": null,
            "grid_auto_flow": null,
            "grid_auto_rows": null,
            "grid_column": null,
            "grid_gap": null,
            "grid_row": null,
            "grid_template_areas": null,
            "grid_template_columns": null,
            "grid_template_rows": null,
            "height": null,
            "justify_content": null,
            "justify_items": null,
            "left": null,
            "margin": null,
            "max_height": null,
            "max_width": null,
            "min_height": null,
            "min_width": null,
            "object_fit": null,
            "object_position": null,
            "order": null,
            "overflow": null,
            "overflow_x": null,
            "overflow_y": null,
            "padding": null,
            "right": null,
            "top": null,
            "visibility": null,
            "width": null
          }
        },
        "09a30566efab4982923bc9c127a8cdf5": {
          "model_module": "@jupyter-widgets/base",
          "model_name": "LayoutModel",
          "model_module_version": "1.2.0",
          "state": {
            "_model_module": "@jupyter-widgets/base",
            "_model_module_version": "1.2.0",
            "_model_name": "LayoutModel",
            "_view_count": null,
            "_view_module": "@jupyter-widgets/base",
            "_view_module_version": "1.2.0",
            "_view_name": "LayoutView",
            "align_content": null,
            "align_items": null,
            "align_self": null,
            "border": null,
            "bottom": null,
            "display": null,
            "flex": null,
            "flex_flow": null,
            "grid_area": null,
            "grid_auto_columns": null,
            "grid_auto_flow": null,
            "grid_auto_rows": null,
            "grid_column": null,
            "grid_gap": null,
            "grid_row": null,
            "grid_template_areas": null,
            "grid_template_columns": null,
            "grid_template_rows": null,
            "height": null,
            "justify_content": null,
            "justify_items": null,
            "left": null,
            "margin": null,
            "max_height": null,
            "max_width": null,
            "min_height": null,
            "min_width": null,
            "object_fit": null,
            "object_position": null,
            "order": null,
            "overflow": null,
            "overflow_x": null,
            "overflow_y": null,
            "padding": null,
            "right": null,
            "top": null,
            "visibility": null,
            "width": null
          }
        },
        "fbb631f0b02a474f8603f49008f18c9d": {
          "model_module": "@jupyter-widgets/controls",
          "model_name": "DescriptionStyleModel",
          "model_module_version": "1.5.0",
          "state": {
            "_model_module": "@jupyter-widgets/controls",
            "_model_module_version": "1.5.0",
            "_model_name": "DescriptionStyleModel",
            "_view_count": null,
            "_view_module": "@jupyter-widgets/base",
            "_view_module_version": "1.2.0",
            "_view_name": "StyleView",
            "description_width": ""
          }
        },
        "46fff53b63aa402197fb0dec9c13d1a1": {
          "model_module": "@jupyter-widgets/base",
          "model_name": "LayoutModel",
          "model_module_version": "1.2.0",
          "state": {
            "_model_module": "@jupyter-widgets/base",
            "_model_module_version": "1.2.0",
            "_model_name": "LayoutModel",
            "_view_count": null,
            "_view_module": "@jupyter-widgets/base",
            "_view_module_version": "1.2.0",
            "_view_name": "LayoutView",
            "align_content": null,
            "align_items": null,
            "align_self": null,
            "border": null,
            "bottom": null,
            "display": null,
            "flex": null,
            "flex_flow": null,
            "grid_area": null,
            "grid_auto_columns": null,
            "grid_auto_flow": null,
            "grid_auto_rows": null,
            "grid_column": null,
            "grid_gap": null,
            "grid_row": null,
            "grid_template_areas": null,
            "grid_template_columns": null,
            "grid_template_rows": null,
            "height": null,
            "justify_content": null,
            "justify_items": null,
            "left": null,
            "margin": null,
            "max_height": null,
            "max_width": null,
            "min_height": null,
            "min_width": null,
            "object_fit": null,
            "object_position": null,
            "order": null,
            "overflow": null,
            "overflow_x": null,
            "overflow_y": null,
            "padding": null,
            "right": null,
            "top": null,
            "visibility": null,
            "width": null
          }
        },
        "23c909ac88e043afb7c14bcbe3183cd8": {
          "model_module": "@jupyter-widgets/controls",
          "model_name": "ProgressStyleModel",
          "model_module_version": "1.5.0",
          "state": {
            "_model_module": "@jupyter-widgets/controls",
            "_model_module_version": "1.5.0",
            "_model_name": "ProgressStyleModel",
            "_view_count": null,
            "_view_module": "@jupyter-widgets/base",
            "_view_module_version": "1.2.0",
            "_view_name": "StyleView",
            "bar_color": null,
            "description_width": ""
          }
        },
        "674de14f64af4bda98cffe0b670a0656": {
          "model_module": "@jupyter-widgets/base",
          "model_name": "LayoutModel",
          "model_module_version": "1.2.0",
          "state": {
            "_model_module": "@jupyter-widgets/base",
            "_model_module_version": "1.2.0",
            "_model_name": "LayoutModel",
            "_view_count": null,
            "_view_module": "@jupyter-widgets/base",
            "_view_module_version": "1.2.0",
            "_view_name": "LayoutView",
            "align_content": null,
            "align_items": null,
            "align_self": null,
            "border": null,
            "bottom": null,
            "display": null,
            "flex": null,
            "flex_flow": null,
            "grid_area": null,
            "grid_auto_columns": null,
            "grid_auto_flow": null,
            "grid_auto_rows": null,
            "grid_column": null,
            "grid_gap": null,
            "grid_row": null,
            "grid_template_areas": null,
            "grid_template_columns": null,
            "grid_template_rows": null,
            "height": null,
            "justify_content": null,
            "justify_items": null,
            "left": null,
            "margin": null,
            "max_height": null,
            "max_width": null,
            "min_height": null,
            "min_width": null,
            "object_fit": null,
            "object_position": null,
            "order": null,
            "overflow": null,
            "overflow_x": null,
            "overflow_y": null,
            "padding": null,
            "right": null,
            "top": null,
            "visibility": null,
            "width": null
          }
        },
        "0781b97d182b49a08543a901e40a3e2b": {
          "model_module": "@jupyter-widgets/controls",
          "model_name": "DescriptionStyleModel",
          "model_module_version": "1.5.0",
          "state": {
            "_model_module": "@jupyter-widgets/controls",
            "_model_module_version": "1.5.0",
            "_model_name": "DescriptionStyleModel",
            "_view_count": null,
            "_view_module": "@jupyter-widgets/base",
            "_view_module_version": "1.2.0",
            "_view_name": "StyleView",
            "description_width": ""
          }
        }
      }
    }
  },
  "cells": [
    {
      "cell_type": "code",
      "execution_count": 1,
      "metadata": {
        "colab": {
          "base_uri": "https://localhost:8080/"
        },
        "id": "acoRTyGBipRg",
        "outputId": "4f646be6-2413-408d-9070-a243ef57251a"
      },
      "outputs": [
        {
          "output_type": "stream",
          "name": "stdout",
          "text": [
            "Requirement already satisfied: transformers in /usr/local/lib/python3.10/dist-packages (4.42.4)\n",
            "Collecting datasets\n",
            "  Downloading datasets-2.20.0-py3-none-any.whl.metadata (19 kB)\n",
            "Requirement already satisfied: filelock in /usr/local/lib/python3.10/dist-packages (from transformers) (3.15.4)\n",
            "Requirement already satisfied: huggingface-hub<1.0,>=0.23.2 in /usr/local/lib/python3.10/dist-packages (from transformers) (0.23.5)\n",
            "Requirement already satisfied: numpy<2.0,>=1.17 in /usr/local/lib/python3.10/dist-packages (from transformers) (1.26.4)\n",
            "Requirement already satisfied: packaging>=20.0 in /usr/local/lib/python3.10/dist-packages (from transformers) (24.1)\n",
            "Requirement already satisfied: pyyaml>=5.1 in /usr/local/lib/python3.10/dist-packages (from transformers) (6.0.2)\n",
            "Requirement already satisfied: regex!=2019.12.17 in /usr/local/lib/python3.10/dist-packages (from transformers) (2024.5.15)\n",
            "Requirement already satisfied: requests in /usr/local/lib/python3.10/dist-packages (from transformers) (2.32.3)\n",
            "Requirement already satisfied: safetensors>=0.4.1 in /usr/local/lib/python3.10/dist-packages (from transformers) (0.4.4)\n",
            "Requirement already satisfied: tokenizers<0.20,>=0.19 in /usr/local/lib/python3.10/dist-packages (from transformers) (0.19.1)\n",
            "Requirement already satisfied: tqdm>=4.27 in /usr/local/lib/python3.10/dist-packages (from transformers) (4.66.5)\n",
            "Collecting pyarrow>=15.0.0 (from datasets)\n",
            "  Downloading pyarrow-17.0.0-cp310-cp310-manylinux_2_28_x86_64.whl.metadata (3.3 kB)\n",
            "Requirement already satisfied: pyarrow-hotfix in /usr/local/lib/python3.10/dist-packages (from datasets) (0.6)\n",
            "Collecting dill<0.3.9,>=0.3.0 (from datasets)\n",
            "  Downloading dill-0.3.8-py3-none-any.whl.metadata (10 kB)\n",
            "Requirement already satisfied: pandas in /usr/local/lib/python3.10/dist-packages (from datasets) (2.1.4)\n",
            "Collecting xxhash (from datasets)\n",
            "  Downloading xxhash-3.4.1-cp310-cp310-manylinux_2_17_x86_64.manylinux2014_x86_64.whl.metadata (12 kB)\n",
            "Collecting multiprocess (from datasets)\n",
            "  Downloading multiprocess-0.70.16-py310-none-any.whl.metadata (7.2 kB)\n",
            "Collecting fsspec<=2024.5.0,>=2023.1.0 (from fsspec[http]<=2024.5.0,>=2023.1.0->datasets)\n",
            "  Downloading fsspec-2024.5.0-py3-none-any.whl.metadata (11 kB)\n",
            "Requirement already satisfied: aiohttp in /usr/local/lib/python3.10/dist-packages (from datasets) (3.10.1)\n",
            "Requirement already satisfied: aiohappyeyeballs>=2.3.0 in /usr/local/lib/python3.10/dist-packages (from aiohttp->datasets) (2.3.4)\n",
            "Requirement already satisfied: aiosignal>=1.1.2 in /usr/local/lib/python3.10/dist-packages (from aiohttp->datasets) (1.3.1)\n",
            "Requirement already satisfied: attrs>=17.3.0 in /usr/local/lib/python3.10/dist-packages (from aiohttp->datasets) (24.2.0)\n",
            "Requirement already satisfied: frozenlist>=1.1.1 in /usr/local/lib/python3.10/dist-packages (from aiohttp->datasets) (1.4.1)\n",
            "Requirement already satisfied: multidict<7.0,>=4.5 in /usr/local/lib/python3.10/dist-packages (from aiohttp->datasets) (6.0.5)\n",
            "Requirement already satisfied: yarl<2.0,>=1.0 in /usr/local/lib/python3.10/dist-packages (from aiohttp->datasets) (1.9.4)\n",
            "Requirement already satisfied: async-timeout<5.0,>=4.0 in /usr/local/lib/python3.10/dist-packages (from aiohttp->datasets) (4.0.3)\n",
            "Requirement already satisfied: typing-extensions>=3.7.4.3 in /usr/local/lib/python3.10/dist-packages (from huggingface-hub<1.0,>=0.23.2->transformers) (4.12.2)\n",
            "Requirement already satisfied: charset-normalizer<4,>=2 in /usr/local/lib/python3.10/dist-packages (from requests->transformers) (3.3.2)\n",
            "Requirement already satisfied: idna<4,>=2.5 in /usr/local/lib/python3.10/dist-packages (from requests->transformers) (3.7)\n",
            "Requirement already satisfied: urllib3<3,>=1.21.1 in /usr/local/lib/python3.10/dist-packages (from requests->transformers) (2.0.7)\n",
            "Requirement already satisfied: certifi>=2017.4.17 in /usr/local/lib/python3.10/dist-packages (from requests->transformers) (2024.7.4)\n",
            "Requirement already satisfied: python-dateutil>=2.8.2 in /usr/local/lib/python3.10/dist-packages (from pandas->datasets) (2.8.2)\n",
            "Requirement already satisfied: pytz>=2020.1 in /usr/local/lib/python3.10/dist-packages (from pandas->datasets) (2024.1)\n",
            "Requirement already satisfied: tzdata>=2022.1 in /usr/local/lib/python3.10/dist-packages (from pandas->datasets) (2024.1)\n",
            "Requirement already satisfied: six>=1.5 in /usr/local/lib/python3.10/dist-packages (from python-dateutil>=2.8.2->pandas->datasets) (1.16.0)\n",
            "Downloading datasets-2.20.0-py3-none-any.whl (547 kB)\n",
            "\u001b[2K   \u001b[90m━━━━━━━━━━━━━━━━━━━━━━━━━━━━━━━━━━━━━━━━\u001b[0m \u001b[32m547.8/547.8 kB\u001b[0m \u001b[31m9.0 MB/s\u001b[0m eta \u001b[36m0:00:00\u001b[0m\n",
            "\u001b[?25hDownloading dill-0.3.8-py3-none-any.whl (116 kB)\n",
            "\u001b[2K   \u001b[90m━━━━━━━━━━━━━━━━━━━━━━━━━━━━━━━━━━━━━━━━\u001b[0m \u001b[32m116.3/116.3 kB\u001b[0m \u001b[31m9.3 MB/s\u001b[0m eta \u001b[36m0:00:00\u001b[0m\n",
            "\u001b[?25hDownloading fsspec-2024.5.0-py3-none-any.whl (316 kB)\n",
            "\u001b[2K   \u001b[90m━━━━━━━━━━━━━━━━━━━━━━━━━━━━━━━━━━━━━━━━\u001b[0m \u001b[32m316.1/316.1 kB\u001b[0m \u001b[31m14.5 MB/s\u001b[0m eta \u001b[36m0:00:00\u001b[0m\n",
            "\u001b[?25hDownloading pyarrow-17.0.0-cp310-cp310-manylinux_2_28_x86_64.whl (39.9 MB)\n",
            "\u001b[2K   \u001b[90m━━━━━━━━━━━━━━━━━━━━━━━━━━━━━━━━━━━━━━━━\u001b[0m \u001b[32m39.9/39.9 MB\u001b[0m \u001b[31m15.7 MB/s\u001b[0m eta \u001b[36m0:00:00\u001b[0m\n",
            "\u001b[?25hDownloading multiprocess-0.70.16-py310-none-any.whl (134 kB)\n",
            "\u001b[2K   \u001b[90m━━━━━━━━━━━━━━━━━━━━━━━━━━━━━━━━━━━━━━━━\u001b[0m \u001b[32m134.8/134.8 kB\u001b[0m \u001b[31m6.9 MB/s\u001b[0m eta \u001b[36m0:00:00\u001b[0m\n",
            "\u001b[?25hDownloading xxhash-3.4.1-cp310-cp310-manylinux_2_17_x86_64.manylinux2014_x86_64.whl (194 kB)\n",
            "\u001b[2K   \u001b[90m━━━━━━━━━━━━━━━━━━━━━━━━━━━━━━━━━━━━━━━━\u001b[0m \u001b[32m194.1/194.1 kB\u001b[0m \u001b[31m11.6 MB/s\u001b[0m eta \u001b[36m0:00:00\u001b[0m\n",
            "\u001b[?25hInstalling collected packages: xxhash, pyarrow, fsspec, dill, multiprocess, datasets\n",
            "  Attempting uninstall: pyarrow\n",
            "    Found existing installation: pyarrow 14.0.2\n",
            "    Uninstalling pyarrow-14.0.2:\n",
            "      Successfully uninstalled pyarrow-14.0.2\n",
            "  Attempting uninstall: fsspec\n",
            "    Found existing installation: fsspec 2024.6.1\n",
            "    Uninstalling fsspec-2024.6.1:\n",
            "      Successfully uninstalled fsspec-2024.6.1\n",
            "\u001b[31mERROR: pip's dependency resolver does not currently take into account all the packages that are installed. This behaviour is the source of the following dependency conflicts.\n",
            "torch 2.3.1+cu121 requires nvidia-cublas-cu12==12.1.3.1; platform_system == \"Linux\" and platform_machine == \"x86_64\", which is not installed.\n",
            "torch 2.3.1+cu121 requires nvidia-cuda-cupti-cu12==12.1.105; platform_system == \"Linux\" and platform_machine == \"x86_64\", which is not installed.\n",
            "torch 2.3.1+cu121 requires nvidia-cuda-nvrtc-cu12==12.1.105; platform_system == \"Linux\" and platform_machine == \"x86_64\", which is not installed.\n",
            "torch 2.3.1+cu121 requires nvidia-cuda-runtime-cu12==12.1.105; platform_system == \"Linux\" and platform_machine == \"x86_64\", which is not installed.\n",
            "torch 2.3.1+cu121 requires nvidia-cudnn-cu12==8.9.2.26; platform_system == \"Linux\" and platform_machine == \"x86_64\", which is not installed.\n",
            "torch 2.3.1+cu121 requires nvidia-cufft-cu12==11.0.2.54; platform_system == \"Linux\" and platform_machine == \"x86_64\", which is not installed.\n",
            "torch 2.3.1+cu121 requires nvidia-curand-cu12==10.3.2.106; platform_system == \"Linux\" and platform_machine == \"x86_64\", which is not installed.\n",
            "torch 2.3.1+cu121 requires nvidia-cusolver-cu12==11.4.5.107; platform_system == \"Linux\" and platform_machine == \"x86_64\", which is not installed.\n",
            "torch 2.3.1+cu121 requires nvidia-cusparse-cu12==12.1.0.106; platform_system == \"Linux\" and platform_machine == \"x86_64\", which is not installed.\n",
            "torch 2.3.1+cu121 requires nvidia-nccl-cu12==2.20.5; platform_system == \"Linux\" and platform_machine == \"x86_64\", which is not installed.\n",
            "torch 2.3.1+cu121 requires nvidia-nvtx-cu12==12.1.105; platform_system == \"Linux\" and platform_machine == \"x86_64\", which is not installed.\n",
            "cudf-cu12 24.4.1 requires pyarrow<15.0.0a0,>=14.0.1, but you have pyarrow 17.0.0 which is incompatible.\n",
            "gcsfs 2024.6.1 requires fsspec==2024.6.1, but you have fsspec 2024.5.0 which is incompatible.\n",
            "ibis-framework 8.0.0 requires pyarrow<16,>=2, but you have pyarrow 17.0.0 which is incompatible.\u001b[0m\u001b[31m\n",
            "\u001b[0mSuccessfully installed datasets-2.20.0 dill-0.3.8 fsspec-2024.5.0 multiprocess-0.70.16 pyarrow-17.0.0 xxhash-3.4.1\n"
          ]
        }
      ],
      "source": [
        "# Import necessary libraries with new names\n",
        "!pip install transformers datasets\n",
        "import pandas as pd_gps_reviews\n",
        "import torch as torch_gps_reviews\n",
        "from sklearn.model_selection import train_test_split as gps_reviews_train_test_split\n",
        "from sklearn.metrics import classification_report as gps_reviews_classification_report, confusion_matrix as gps_reviews_confusion_matrix\n",
        "import matplotlib.pyplot as plt_gps_reviews\n",
        "import seaborn as sns_gps_reviews\n",
        "from transformers import BertTokenizer as BertTokenizer_gps_reviews, BertForSequenceClassification as BertForSequenceClassification_gps_reviews, Trainer as Trainer_gps_reviews, TrainingArguments as TrainingArguments_gps_reviews\n",
        "from transformers import DataCollatorWithPadding as DataCollatorWithPadding_gps_reviews\n",
        "from datasets import Dataset as Dataset_gps_reviews"
      ]
    },
    {
      "cell_type": "code",
      "source": [
        "from google.colab import drive\n",
        "drive.mount('/content/drive')\n"
      ],
      "metadata": {
        "colab": {
          "base_uri": "https://localhost:8080/"
        },
        "id": "XM2Y2T5O2fty",
        "outputId": "ca1e8c38-cb1b-405d-e5b5-b199cf061649"
      },
      "execution_count": 2,
      "outputs": [
        {
          "output_type": "stream",
          "name": "stdout",
          "text": [
            "Mounted at /content/drive\n"
          ]
        }
      ]
    },
    {
      "cell_type": "code",
      "source": [
        "\n",
        "\n",
        "# Function to load and preprocess the dataset\n",
        "def load_and_preprocess_gps_reviews_data(file_path):\n",
        "    \"\"\"Load and preprocess the Google Play Store reviews dataset.\"\"\"\n",
        "    df_gps_reviews = pd_gps_reviews.read_csv(file_path)\n",
        "\n",
        "    # Convert scores to binary labels: 1, 2, 3 -> Negative (0), 4, 5 -> Positive (1)\n",
        "    df_gps_reviews['label_gps_reviews'] = df_gps_reviews['score'].apply(lambda x: 0 if x <= 3 else 1)\n",
        "\n",
        "    # Select the relevant columns\n",
        "    df_gps_reviews = df_gps_reviews[['content', 'label_gps_reviews']]\n",
        "\n",
        "    # Split the dataset into train and test sets\n",
        "    train_gps_reviews_df, test_gps_reviews_df = gps_reviews_train_test_split(df_gps_reviews, test_size=0.2, random_state=42)\n",
        "\n",
        "    return train_gps_reviews_df, test_gps_reviews_df\n",
        "\n",
        "# Function to tokenize the dataset\n",
        "def tokenize_gps_reviews_function(examples):\n",
        "    \"\"\"Tokenize the content of Google Play Store reviews.\"\"\"\n",
        "    return tokenizer_gps_reviews(examples['content'], truncation=True)\n",
        "\n",
        "from sklearn.metrics import accuracy_score as gps_reviews_accuracy_score\n",
        "import torch\n",
        "\n",
        "def compute_metrics_gps_reviews(eval_pred):\n",
        "    \"\"\"Compute accuracy metrics for Google Play Store reviews evaluation.\"\"\"\n",
        "    logits, labels = eval_pred\n",
        "    # Convert logits to a PyTorch tensor if it's a NumPy array\n",
        "    logits = torch.tensor(logits)  # Convert to tensor if needed\n",
        "    predictions_gps_reviews = torch.argmax(logits, dim=-1)\n",
        "    accuracy_gps_reviews = gps_reviews_accuracy_score(labels, predictions_gps_reviews)\n",
        "    return {\"accuracy\": accuracy_gps_reviews}\n",
        "\n",
        "# Function to train the BERT model\n",
        "def train_gps_reviews_bert_model(train_dataset, test_dataset):\n",
        "    \"\"\"Fine-tune a BERT model on Google Play Store reviews.\"\"\"\n",
        "\n",
        "    # Ensure the dataset has the 'label' column correctly set for training\n",
        "    train_dataset = train_dataset.rename_column(\"label_gps_reviews\", \"labels\")\n",
        "    test_dataset = test_dataset.rename_column(\"label_gps_reviews\", \"labels\")\n",
        "\n",
        "    # Load the pre-trained BERT model for sequence classification\n",
        "    model_gps_reviews = BertForSequenceClassification_gps_reviews.from_pretrained('bert-base-uncased', num_labels=2)\n",
        "\n",
        "    # Training arguments\n",
        "    training_args_gps_reviews = TrainingArguments_gps_reviews(\n",
        "        output_dir='./results_gps_reviews',\n",
        "        evaluation_strategy=\"epoch\",\n",
        "        logging_strategy=\"steps\",\n",
        "        logging_steps=10,\n",
        "        learning_rate=2e-5,\n",
        "        per_device_train_batch_size=16,\n",
        "        per_device_eval_batch_size=16,\n",
        "        num_train_epochs=3,\n",
        "        weight_decay=0.01,\n",
        "        save_strategy=\"epoch\",\n",
        "        load_best_model_at_end=True,\n",
        "        metric_for_best_model=\"accuracy\",  # Ensure this matches the metric returned by compute_metrics_gps_reviews\n",
        "        logging_dir='./logs_gps_reviews',  # Directory to save logs\n",
        "    )\n",
        "\n",
        "    # Initialize the Trainer\n",
        "    trainer_gps_reviews = Trainer_gps_reviews(\n",
        "        model=model_gps_reviews,\n",
        "        args=training_args_gps_reviews,\n",
        "        train_dataset=train_dataset,\n",
        "        eval_dataset=test_dataset,\n",
        "        tokenizer=tokenizer_gps_reviews,\n",
        "        data_collator=data_collator_gps_reviews,\n",
        "        compute_metrics=compute_metrics_gps_reviews,  # Include metric computation\n",
        "    )\n",
        "\n",
        "    # Fine-tune the BERT model\n",
        "    trainer_gps_reviews.train()\n",
        "\n",
        "    return trainer_gps_reviews\n",
        "\n",
        "\n",
        "# Function to evaluate the model and display results\n",
        "def evaluate_gps_reviews_model(trainer, test_dataset):\n",
        "    \"\"\"Evaluate the fine-tuned BERT model and display the results.\"\"\"\n",
        "    # Evaluate the model\n",
        "    eval_gps_reviews_results = trainer.evaluate()\n",
        "\n",
        "    # Make predictions on the test set\n",
        "    predictions_gps_reviews = trainer.predict(test_dataset)\n",
        "    preds_gps_reviews = predictions_gps_reviews.predictions.argmax(-1)\n",
        "\n",
        "    # Generate classification report\n",
        "    print(gps_reviews_classification_report(test_dataset['label_gps_reviews'], preds_gps_reviews))\n",
        "\n",
        "    # Confusion Matrix\n",
        "    cm_gps_reviews = gps_reviews_confusion_matrix(test_dataset['label_gps_reviews'], preds_gps_reviews)\n",
        "\n",
        "    # Plot confusion matrix in yellow color\n",
        "    plt_gps_reviews.figure(figsize=(8, 6))\n",
        "    sns_gps_reviews.heatmap(cm_gps_reviews, annot=True, fmt='d', cmap='YlOrBr')\n",
        "    plt_gps_reviews.xlabel('Predicted Labels')\n",
        "    plt_gps_reviews.ylabel('True Labels')\n",
        "    plt_gps_reviews.title('Google Play Store Reviews Confusion Matrix')\n",
        "    plt_gps_reviews.show()\n"
      ],
      "metadata": {
        "id": "2BoJQKzyiq_X"
      },
      "execution_count": 17,
      "outputs": []
    },
    {
      "cell_type": "code",
      "source": [
        "# Load and preprocess the dataset\n",
        "train_gps_reviews_df, test_gps_reviews_df = load_and_preprocess_gps_reviews_data('/content/drive/My Drive/Training_Data_Google_Play_reviews_6000.csv')\n",
        "\n",
        "# Convert pandas DataFrame to Hugging Face Dataset\n",
        "train_gps_reviews_dataset = Dataset_gps_reviews.from_pandas(train_gps_reviews_df)\n",
        "test_gps_reviews_dataset = Dataset_gps_reviews.from_pandas(test_gps_reviews_df)\n",
        "\n",
        "# Load the BERT tokenizer\n",
        "tokenizer_gps_reviews = BertTokenizer_gps_reviews.from_pretrained('bert-base-uncased')\n",
        "\n",
        "# Apply tokenization to the datasets\n",
        "train_gps_reviews_dataset = train_gps_reviews_dataset.map(tokenize_gps_reviews_function, batched=True)\n",
        "test_gps_reviews_dataset = test_gps_reviews_dataset.map(tokenize_gps_reviews_function, batched=True)\n",
        "\n",
        "# Data collator to handle dynamic padding\n",
        "data_collator_gps_reviews = DataCollatorWithPadding_gps_reviews(tokenizer=tokenizer_gps_reviews)\n"
      ],
      "metadata": {
        "colab": {
          "base_uri": "https://localhost:8080/",
          "height": 81,
          "referenced_widgets": [
            "318fde1b887745539268c7f06130b249",
            "cdd48b9aadb742fd9843a46153ce7592",
            "b168c867109d484aa74f276596e6c512",
            "5bb741faec484c5f83d1c1df45b2f94e",
            "051eaffa5f6e4df4882c495077ed27b1",
            "9f1b90e67bbc4f1688f7b6788b05f82d",
            "d74f63c0ef854454ae8a90a79f10b17c",
            "0c25eabcf0424a6baa82d22624052ac4",
            "d4cc0587b43a4eacafc2458398861b2e",
            "3b4965886a48406394281211c70e93d9",
            "21bc21d3184641398de516f61011b7ec",
            "39e70a6dc48b4d7ba457ec67e233e1f0",
            "75242dce44194eb9a2a6cfba30bc2c51",
            "d790ca8faf004e1ab4b805a2a9697431",
            "d455a7cbeae940e18fe377101a7d9a11",
            "16f31fac07e6432ea75e9dae86abb745",
            "09a30566efab4982923bc9c127a8cdf5",
            "fbb631f0b02a474f8603f49008f18c9d",
            "46fff53b63aa402197fb0dec9c13d1a1",
            "23c909ac88e043afb7c14bcbe3183cd8",
            "674de14f64af4bda98cffe0b670a0656",
            "0781b97d182b49a08543a901e40a3e2b"
          ]
        },
        "id": "5PkMfsxCirCq",
        "outputId": "35126e4c-7499-4e51-f826-07f8980e551a"
      },
      "execution_count": 13,
      "outputs": [
        {
          "output_type": "display_data",
          "data": {
            "text/plain": [
              "Map:   0%|          | 0/4800 [00:00<?, ? examples/s]"
            ],
            "application/vnd.jupyter.widget-view+json": {
              "version_major": 2,
              "version_minor": 0,
              "model_id": "318fde1b887745539268c7f06130b249"
            }
          },
          "metadata": {}
        },
        {
          "output_type": "display_data",
          "data": {
            "text/plain": [
              "Map:   0%|          | 0/1200 [00:00<?, ? examples/s]"
            ],
            "application/vnd.jupyter.widget-view+json": {
              "version_major": 2,
              "version_minor": 0,
              "model_id": "39e70a6dc48b4d7ba457ec67e233e1f0"
            }
          },
          "metadata": {}
        }
      ]
    },
    {
      "cell_type": "code",
      "source": [],
      "metadata": {
        "id": "xdB537G_irGP"
      },
      "execution_count": 13,
      "outputs": []
    },
    {
      "cell_type": "code",
      "source": [],
      "metadata": {
        "id": "0cF1GCPXirJu"
      },
      "execution_count": 13,
      "outputs": []
    },
    {
      "cell_type": "code",
      "source": [],
      "metadata": {
        "id": "ByXfQoLairNN"
      },
      "execution_count": 13,
      "outputs": []
    },
    {
      "cell_type": "code",
      "source": [
        "# Train the BERT model\n",
        "trainer_gps_reviews = train_gps_reviews_bert_model(train_gps_reviews_dataset, test_gps_reviews_dataset)\n",
        "\n",
        ""
      ],
      "metadata": {
        "colab": {
          "base_uri": "https://localhost:8080/",
          "height": 259
        },
        "id": "MbWRyOVfirQa",
        "outputId": "f8c849ea-5432-442d-e137-3aa8852bb8fe"
      },
      "execution_count": 18,
      "outputs": [
        {
          "output_type": "stream",
          "name": "stderr",
          "text": [
            "Some weights of BertForSequenceClassification were not initialized from the model checkpoint at bert-base-uncased and are newly initialized: ['classifier.bias', 'classifier.weight']\n",
            "You should probably TRAIN this model on a down-stream task to be able to use it for predictions and inference.\n",
            "/usr/local/lib/python3.10/dist-packages/transformers/training_args.py:1494: FutureWarning: `evaluation_strategy` is deprecated and will be removed in version 4.46 of 🤗 Transformers. Use `eval_strategy` instead\n",
            "  warnings.warn(\n"
          ]
        },
        {
          "output_type": "display_data",
          "data": {
            "text/plain": [
              "<IPython.core.display.HTML object>"
            ],
            "text/html": [
              "\n",
              "    <div>\n",
              "      \n",
              "      <progress value='900' max='900' style='width:300px; height:20px; vertical-align: middle;'></progress>\n",
              "      [900/900 06:03, Epoch 3/3]\n",
              "    </div>\n",
              "    <table border=\"1\" class=\"dataframe\">\n",
              "  <thead>\n",
              " <tr style=\"text-align: left;\">\n",
              "      <th>Epoch</th>\n",
              "      <th>Training Loss</th>\n",
              "      <th>Validation Loss</th>\n",
              "      <th>Accuracy</th>\n",
              "    </tr>\n",
              "  </thead>\n",
              "  <tbody>\n",
              "    <tr>\n",
              "      <td>1</td>\n",
              "      <td>0.522300</td>\n",
              "      <td>0.460131</td>\n",
              "      <td>0.810833</td>\n",
              "    </tr>\n",
              "    <tr>\n",
              "      <td>2</td>\n",
              "      <td>0.509100</td>\n",
              "      <td>0.425409</td>\n",
              "      <td>0.825000</td>\n",
              "    </tr>\n",
              "    <tr>\n",
              "      <td>3</td>\n",
              "      <td>0.328000</td>\n",
              "      <td>0.451601</td>\n",
              "      <td>0.833333</td>\n",
              "    </tr>\n",
              "  </tbody>\n",
              "</table><p>"
            ]
          },
          "metadata": {}
        }
      ]
    },
    {
      "cell_type": "code",
      "source": [
        "# Evaluate the model and display results\n",
        "evaluate_gps_reviews_model(trainer_gps_reviews, test_gps_reviews_dataset)\n"
      ],
      "metadata": {
        "colab": {
          "base_uri": "https://localhost:8080/",
          "height": 720
        },
        "id": "qs-KPsM7irT2",
        "outputId": "113ea24c-b023-4984-d78e-2ee0db7397b0"
      },
      "execution_count": 19,
      "outputs": [
        {
          "output_type": "display_data",
          "data": {
            "text/plain": [
              "<IPython.core.display.HTML object>"
            ],
            "text/html": []
          },
          "metadata": {}
        },
        {
          "output_type": "stream",
          "name": "stdout",
          "text": [
            "              precision    recall  f1-score   support\n",
            "\n",
            "           0       0.82      0.79      0.81       524\n",
            "           1       0.84      0.87      0.85       676\n",
            "\n",
            "    accuracy                           0.83      1200\n",
            "   macro avg       0.83      0.83      0.83      1200\n",
            "weighted avg       0.83      0.83      0.83      1200\n",
            "\n"
          ]
        },
        {
          "output_type": "display_data",
          "data": {
            "text/plain": [
              "<Figure size 800x600 with 2 Axes>"
            ],
            "image/png": "[encoded data removed]"
          },
          "metadata": {}
        }
      ]
    },
    {
      "cell_type": "code",
      "source": [
        "import numpy as np_gps_reviews\n",
        "# Function to show a sample of predictions\n",
        "def display_sample_predictions(trainer, test_dataset, num_samples=10):\n",
        "    \"\"\"Display a sample of true labels and predicted labels.\"\"\"\n",
        "\n",
        "    # Get predictions\n",
        "    predictions_gps_reviews = trainer.predict(test_dataset)\n",
        "    preds_gps_reviews = np_gps_reviews.argmax(predictions_gps_reviews.predictions, axis=-1)\n",
        "\n",
        "    # Convert dataset to pandas DataFrame for easy manipulation\n",
        "    test_df = test_dataset.to_pandas()\n",
        "\n",
        "    # Extract labels from the dataset and add them to the DataFrame\n",
        "    test_df['labels'] = test_dataset['label_gps_reviews'] # Changed 'labels' to 'label_gps_reviews'\n",
        "\n",
        "    # Add predictions to the DataFrame\n",
        "    test_df['predicted_label_gps_reviews'] = preds_gps_reviews\n",
        "\n",
        "    # Display a sample of the true and predicted labels\n",
        "    sample_df = test_df[['content', 'labels', 'predicted_label_gps_reviews']].sample(n=num_samples)\n",
        "\n",
        "    for index, row in sample_df.iterrows():\n",
        "        print(f\"Review: {row['content']}\")\n",
        "        print(f\"True Label: {row['labels']} | Predicted Label: {row['predicted_label_gps_reviews']}\\n\")\n",
        "\n",
        "\n",
        "# Display a sample of predictions\n",
        "display_sample_predictions(trainer_gps_reviews, test_gps_reviews_dataset, num_samples=10)"
      ],
      "metadata": {
        "colab": {
          "base_uri": "https://localhost:8080/",
          "height": 558
        },
        "id": "A32rD4v8irXo",
        "outputId": "2350a421-2e5f-48dc-d3e9-6085dee87c63"
      },
      "execution_count": 25,
      "outputs": [
        {
          "output_type": "display_data",
          "data": {
            "text/plain": [
              "<IPython.core.display.HTML object>"
            ],
            "text/html": []
          },
          "metadata": {}
        },
        {
          "output_type": "stream",
          "name": "stdout",
          "text": [
            "Review: Not compatible with pixel 7 pro\n",
            "True Label: 0 | Predicted Label: 0\n",
            "\n",
            "Review: Qualcuno mi sa' dire perche' dopo l'ultimo aggiornamento e' sparito il T9 e non riesco piu' a metterlo???????\n",
            "True Label: 1 | Predicted Label: 0\n",
            "\n",
            "Review: È una app buona, ma non viene visualizzato l'orario corretto di ogni messaggio, alcuni messaggi non c'è proprio l'orario indicato\n",
            "True Label: 0 | Predicted Label: 0\n",
            "\n",
            "Review: Bast app\n",
            "True Label: 1 | Predicted Label: 1\n",
            "\n",
            "Review: Okay\n",
            "True Label: 1 | Predicted Label: 1\n",
            "\n",
            "Review: File dalla galleria con nuovo timer autodistruzione da schifo Ora solo 30 secondi massimo! Agg. Novità più che inutili 😓 per favore 🥺 io non aggiorno per adesso\n",
            "True Label: 0 | Predicted Label: 0\n",
            "\n",
            "Review: à chaque fois que je voulais faire un filtre mon écran devenait noir\n",
            "True Label: 0 | Predicted Label: 0\n",
            "\n",
            "Review: È possibile aggiungere nuove emoji di animali, come procione e ornitorinco grazie. Del procione ne esiste già ma è possibile crearne altre?\n",
            "True Label: 1 | Predicted Label: 0\n",
            "\n",
            "Review: I like it\n",
            "True Label: 1 | Predicted Label: 1\n",
            "\n",
            "Review: Viber ausgezeichnet,in jeder Hinsicht bin voll zufrieden\n",
            "True Label: 1 | Predicted Label: 1\n",
            "\n"
          ]
        }
      ]
    },
    {
      "cell_type": "code",
      "source": [],
      "metadata": {
        "id": "QRbOYJfoirbU"
      },
      "execution_count": 19,
      "outputs": []
    },
    {
      "cell_type": "code",
      "source": [],
      "metadata": {
        "id": "E94N6Tfyireg"
      },
      "execution_count": 19,
      "outputs": []
    },
    {
      "cell_type": "code",
      "source": [],
      "metadata": {
        "id": "YbWEoN_firhP"
      },
      "execution_count": 19,
      "outputs": []
    },
    {
      "cell_type": "code",
      "source": [],
      "metadata": {
        "id": "B4LN1j7Qirki"
      },
      "execution_count": 19,
      "outputs": []
    },
    {
      "cell_type": "code",
      "source": [],
      "metadata": {
        "id": "mm7MTCeNirnf"
      },
      "execution_count": 20,
      "outputs": []
    }
  ]
}